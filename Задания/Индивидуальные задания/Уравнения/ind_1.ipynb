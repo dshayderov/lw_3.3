{
 "cells": [
  {
   "cell_type": "markdown",
   "id": "ad13d349",
   "metadata": {},
   "source": [
    "# Решение систем линейных уравнений матричным методом\n",
    "\n",
    "\\begin{cases}\n",
    "  5x - y - z = 0 &\\\\\n",
    "  x + 2y + 3z = 14 &\\\\\n",
    "  4x + 3y + 2z = 16 &\n",
    "\\end{cases}"
   ]
  },
  {
   "cell_type": "code",
   "execution_count": 2,
   "id": "1beae2ee",
   "metadata": {},
   "outputs": [],
   "source": [
    "import numpy as np"
   ]
  },
  {
   "cell_type": "markdown",
   "id": "879be86e",
   "metadata": {},
   "source": [
    "Обозначим отдельно как A матрицу коэффициентов при неизвестных и как B матрицу неизвестных и матрицу свободных членов"
   ]
  },
  {
   "cell_type": "code",
   "execution_count": 9,
   "id": "6d75e879",
   "metadata": {},
   "outputs": [
    {
     "name": "stdout",
     "output_type": "stream",
     "text": [
      "[[ 5 -1 -1]\n",
      " [ 1  2  3]\n",
      " [ 4  3  2]]\n"
     ]
    }
   ],
   "source": [
    "a = np.matrix('5 -1 -1; 1 2 3; 4 3 2')\n",
    "print(a)"
   ]
  },
  {
   "cell_type": "code",
   "execution_count": 4,
   "id": "637e389c",
   "metadata": {},
   "outputs": [
    {
     "name": "stdout",
     "output_type": "stream",
     "text": [
      "[[ 0]\n",
      " [14]\n",
      " [16]]\n"
     ]
    }
   ],
   "source": [
    "b = np.matrix('0; 14; 16')\n",
    "print(b)"
   ]
  },
  {
   "cell_type": "markdown",
   "id": "390e20a0",
   "metadata": {},
   "source": [
    "Сначала проверим, не является ли матрица коэффициентов при неизвестных вырожденной, то есть можем ли вообще применять матричный метод"
   ]
  },
  {
   "cell_type": "code",
   "execution_count": 5,
   "id": "c94643ca",
   "metadata": {},
   "outputs": [
    {
     "name": "stdout",
     "output_type": "stream",
     "text": [
      "|A| = -30.000000000000004\n"
     ]
    }
   ],
   "source": [
    "a_det = np.linalg.det(a)\n",
    "print(f\"|A| = {a_det}\")"
   ]
  },
  {
   "cell_type": "markdown",
   "id": "54b7e18e",
   "metadata": {},
   "source": [
    "Определитель этой матрицы не равен нулю, следовательно, \n",
    "можем применять матричный метод."
   ]
  },
  {
   "cell_type": "markdown",
   "id": "d21dedb4",
   "metadata": {},
   "source": [
    "Решение системы линейных алгебраических уравнений матричным методом определяется по формуле $X = A^{-1} \\times B$"
   ]
  },
  {
   "cell_type": "markdown",
   "id": "4fa265e8",
   "metadata": {},
   "source": [
    "Определим обратную матрицу А"
   ]
  },
  {
   "cell_type": "code",
   "execution_count": 6,
   "id": "6469c952",
   "metadata": {},
   "outputs": [
    {
     "name": "stdout",
     "output_type": "stream",
     "text": [
      "[[ 0.16666667  0.03333333  0.03333333]\n",
      " [-0.33333333 -0.46666667  0.53333333]\n",
      " [ 0.16666667  0.63333333 -0.36666667]]\n"
     ]
    }
   ],
   "source": [
    "a_inv = np.linalg.inv(a)\n",
    "print(a_inv)"
   ]
  },
  {
   "cell_type": "markdown",
   "id": "44427bfb",
   "metadata": {},
   "source": [
    "Находим матрицу неизвестных"
   ]
  },
  {
   "cell_type": "code",
   "execution_count": 7,
   "id": "53f84eb0",
   "metadata": {},
   "outputs": [
    {
     "name": "stdout",
     "output_type": "stream",
     "text": [
      "[[1.]\n",
      " [2.]\n",
      " [3.]]\n"
     ]
    }
   ],
   "source": [
    "X = a_inv.dot(b)\n",
    "print(X)"
   ]
  },
  {
   "cell_type": "markdown",
   "id": "3ee9f2fa",
   "metadata": {},
   "source": [
    "Итак, получили решение"
   ]
  },
  {
   "cell_type": "code",
   "execution_count": 8,
   "id": "e7515e5a",
   "metadata": {},
   "outputs": [
    {
     "name": "stdout",
     "output_type": "stream",
     "text": [
      "x = 1\n",
      "y = 2\n",
      "z = 3\n"
     ]
    }
   ],
   "source": [
    "x = int(round(X[0, 0]))\n",
    "y = int(round(X[1, 0]))\n",
    "z = int(round(X[2, 0]))         \n",
    "print(f\"x = {x}\")\n",
    "print(f\"y = {y}\")\n",
    "print(f\"z = {z}\")"
   ]
  },
  {
   "cell_type": "markdown",
   "id": "ee39c6bb",
   "metadata": {},
   "source": [
    "Сделаем проверку"
   ]
  },
  {
   "cell_type": "code",
   "execution_count": 10,
   "id": "e0a7badf",
   "metadata": {},
   "outputs": [
    {
     "name": "stdout",
     "output_type": "stream",
     "text": [
      "5*1 + (-1)*2 + (-1)*3 = 0\n",
      "Проверка пройдена\n"
     ]
    }
   ],
   "source": [
    "znach = a[0,0]*x + a[0,1]*y + a[0,2]*z\n",
    "print(f\"{a[0,0]}*{x} + ({a[0,1]})*{y} + ({a[0,2]})*{z} = {b[0,0]}\")\n",
    "if znach == b[0,0]:\n",
    "    print(\"Проверка пройдена\")\n",
    "else:\n",
    "    print(\"Проверка не пройдена\")"
   ]
  },
  {
   "cell_type": "code",
   "execution_count": null,
   "id": "31235a12",
   "metadata": {},
   "outputs": [],
   "source": []
  }
 ],
 "metadata": {
  "kernelspec": {
   "display_name": "Python 3 (ipykernel)",
   "language": "python",
   "name": "python3"
  },
  "language_info": {
   "codemirror_mode": {
    "name": "ipython",
    "version": 3
   },
   "file_extension": ".py",
   "mimetype": "text/x-python",
   "name": "python",
   "nbconvert_exporter": "python",
   "pygments_lexer": "ipython3",
   "version": "3.9.7"
  }
 },
 "nbformat": 4,
 "nbformat_minor": 5
}
