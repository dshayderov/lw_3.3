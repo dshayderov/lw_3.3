{
 "cells": [
  {
   "cell_type": "markdown",
   "id": "7026d977",
   "metadata": {},
   "source": [
    "# Решение систем линейных уравнений методом Крамера\n",
    "\\begin{cases}\n",
    "  5x - y - z = 0 &\\\\\n",
    "  x + 2y + 3z = 14 &\\\\\n",
    "  4x + 3y + 2z = 16 &\n",
    "\\end{cases}"
   ]
  },
  {
   "cell_type": "code",
   "execution_count": 2,
   "id": "a93c9946",
   "metadata": {},
   "outputs": [],
   "source": [
    "import numpy as np"
   ]
  },
  {
   "cell_type": "code",
   "execution_count": 3,
   "id": "e3ab6c2d",
   "metadata": {},
   "outputs": [],
   "source": [
    "a1 = [5, 1, 4]\n",
    "a2 = [-1, 2, 3]\n",
    "a3 = [-1, 3, 2]\n",
    "b = [0, 4, 16]"
   ]
  },
  {
   "cell_type": "markdown",
   "id": "b1d1ffb4",
   "metadata": {},
   "source": [
    "В матричном виде эта система может быть записана как $A \\times X = B$, где $A$ - основная матрица системы, ее элементами являются коэффициенты при неизвестных переменных, $B$ - матрица – столбец свободных членов"
   ]
  },
  {
   "cell_type": "code",
   "execution_count": 4,
   "id": "75877f11",
   "metadata": {},
   "outputs": [
    {
     "name": "stdout",
     "output_type": "stream",
     "text": [
      "[[ 5 -1 -1]\n",
      " [ 1  2  3]\n",
      " [ 4  3  2]]\n"
     ]
    }
   ],
   "source": [
    "A = np.transpose(np.matrix([a1, a2, a3]))\n",
    "print(A)"
   ]
  },
  {
   "cell_type": "code",
   "execution_count": 5,
   "id": "150ece2f",
   "metadata": {},
   "outputs": [
    {
     "name": "stdout",
     "output_type": "stream",
     "text": [
      "[[ 0]\n",
      " [ 4]\n",
      " [16]]\n"
     ]
    }
   ],
   "source": [
    "B = np.transpose(np.matrix([b]))\n",
    "print(B)"
   ]
  },
  {
   "cell_type": "markdown",
   "id": "6b76fb64",
   "metadata": {},
   "source": [
    "Определяем вспомогательные матрицы"
   ]
  },
  {
   "cell_type": "code",
   "execution_count": 8,
   "id": "a694efaf",
   "metadata": {},
   "outputs": [
    {
     "name": "stdout",
     "output_type": "stream",
     "text": [
      "[[ 0 -1 -1]\n",
      " [ 4  2  3]\n",
      " [16  3  2]]\n"
     ]
    }
   ],
   "source": [
    "A1 = np.transpose(np.matrix([b, a2, a3]))\n",
    "print(A1)"
   ]
  },
  {
   "cell_type": "code",
   "execution_count": 9,
   "id": "e60fabc0",
   "metadata": {},
   "outputs": [
    {
     "name": "stdout",
     "output_type": "stream",
     "text": [
      "[[ 5  0 -1]\n",
      " [ 1  4  3]\n",
      " [ 4 16  2]]\n"
     ]
    }
   ],
   "source": [
    "A2 = np.transpose(np.matrix([a1, b, a3]))\n",
    "print(A2)"
   ]
  },
  {
   "cell_type": "code",
   "execution_count": 10,
   "id": "677b5b39",
   "metadata": {},
   "outputs": [
    {
     "name": "stdout",
     "output_type": "stream",
     "text": [
      "[[ 5 -1  0]\n",
      " [ 1  2  4]\n",
      " [ 4  3 16]]\n"
     ]
    }
   ],
   "source": [
    "A3 = np.transpose(np.matrix([a1, a2, b]))\n",
    "print(A3)"
   ]
  },
  {
   "cell_type": "markdown",
   "id": "1ac07fd3",
   "metadata": {},
   "source": [
    "Находим определители главной и вспомогательной матриц"
   ]
  },
  {
   "cell_type": "code",
   "execution_count": 11,
   "id": "538ebcd2",
   "metadata": {},
   "outputs": [
    {
     "name": "stdout",
     "output_type": "stream",
     "text": [
      "|A| = -30\n",
      "|A1| = -20\n",
      "|A2| = -200\n",
      "|A3| = 100\n"
     ]
    }
   ],
   "source": [
    "A_det = round(np.linalg.det(A))\n",
    "A1_det = round(np.linalg.det(A1))\n",
    "A2_det = round(np.linalg.det(A2))\n",
    "A3_det = round(np.linalg.det(A3))\n",
    "print(f\"|A| = {A_det}\")\n",
    "print(f\"|A1| = {A1_det}\")\n",
    "print(f\"|A2| = {A2_det}\")\n",
    "print(f\"|A3| = {A3_det}\")"
   ]
  },
  {
   "cell_type": "markdown",
   "id": "c374d4ca",
   "metadata": {},
   "source": [
    "Находим неизвестные"
   ]
  },
  {
   "cell_type": "code",
   "execution_count": 27,
   "id": "3d0e57c3",
   "metadata": {},
   "outputs": [
    {
     "name": "stdout",
     "output_type": "stream",
     "text": [
      "x = 0.667\n",
      "y = 6.667\n",
      "z = -3.333\n"
     ]
    }
   ],
   "source": [
    "x = A1_det / A_det\n",
    "y = A2_det / A_det\n",
    "z = A3_det / A_det\n",
    "print(f\"x = {x:.3f}\")\n",
    "print(f\"y = {y:.3f}\")\n",
    "print(f\"z = {z:.3f}\")"
   ]
  },
  {
   "cell_type": "markdown",
   "id": "cfab24c0",
   "metadata": {},
   "source": [
    "Сделаем проверку"
   ]
  },
  {
   "cell_type": "code",
   "execution_count": 33,
   "id": "59ae0d29",
   "metadata": {},
   "outputs": [
    {
     "name": "stdout",
     "output_type": "stream",
     "text": [
      "5*(0.667) + (-1)*(6.667) + (-1)*(-3.333) = 0\n",
      "Проверка пройдена\n"
     ]
    }
   ],
   "source": [
    "znach = round(a1[0]*x + a2[0]*y + a3[0]*z)\n",
    "print(f\"{a1[0]}*({x:.3f}) + ({a2[0]})*({y:.3f}) + ({a3[0]})*({z:.3f}) = {znach}\")\n",
    "if znach == b[0]:\n",
    "    print(\"Проверка пройдена\")\n",
    "else:\n",
    "    print(\"Проверка не пройдена\")"
   ]
  },
  {
   "cell_type": "code",
   "execution_count": null,
   "id": "0db90368",
   "metadata": {},
   "outputs": [],
   "source": []
  }
 ],
 "metadata": {
  "kernelspec": {
   "display_name": "Python 3 (ipykernel)",
   "language": "python",
   "name": "python3"
  },
  "language_info": {
   "codemirror_mode": {
    "name": "ipython",
    "version": 3
   },
   "file_extension": ".py",
   "mimetype": "text/x-python",
   "name": "python",
   "nbconvert_exporter": "python",
   "pygments_lexer": "ipython3",
   "version": "3.9.7"
  }
 },
 "nbformat": 4,
 "nbformat_minor": 5
}
